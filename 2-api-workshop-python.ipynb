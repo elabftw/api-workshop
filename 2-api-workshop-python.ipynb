{
 "cells": [
  {
   "cell_type": "markdown",
   "id": "5685cac8-ecca-4149-aa3c-ee812d167047",
   "metadata": {},
   "source": [
    "# eLabFTW - API workshop - Interact using python"
   ]
  },
  {
   "cell_type": "markdown",
   "id": "8faf5115-0c5c-4266-9889-ee4664a2f4a3",
   "metadata": {},
   "source": [
    "## eLabFTW's Python Library: `elabapi-python`\n",
    "\n",
    "description python sympa\n",
    "Python is a programming language \n",
    "\n",
    "We will now send requests to the API using python, and more precisely a library that has been designed for eLabFTW : elabapi_python.\n",
    "\n",
    "This library provides a structured approach to sending API requests, following a defined schema. All available methods and their usage are documented in the official API reference.\n",
    "\n",
    "## Setup the Environment\n",
    "\n",
    "To ensure a clean and isolated workspace, we will set up a **Python virtual environment** and install the required library using `pip`, as per the documentation suggests.\n",
    "\n",
    "### Create a Virtual Environment  \n",
    "Run the following command to create a virtual environment named `venv`:\n",
    "\n",
    "```bash\n",
    "python -m venv venv\n",
    "```\n",
    "\n",
    "### Activate the Virtual Environment\n",
    "\n",
    "#### On macOS/Linux:"
   ]
  },
  {
   "cell_type": "code",
   "execution_count": 3,
   "id": "3dd30051-96eb-4076-8c2f-95c152470d35",
   "metadata": {},
   "outputs": [],
   "source": [
    "!python -m venv venv"
   ]
  },
  {
   "cell_type": "markdown",
   "id": "9ced3a3a-b91e-49ec-b1ef-3ca80f148f0b",
   "metadata": {},
   "source": [
    "### Install the required library\n",
    "\n",
    "Once the virtual environment is activated, install `elabapi-python`:"
   ]
  },
  {
   "cell_type": "code",
   "execution_count": 4,
   "id": "c2652095-c21a-4512-afd8-653dcc05b1e5",
   "metadata": {},
   "outputs": [
    {
     "name": "stdout",
     "output_type": "stream",
     "text": [
      "Defaulting to user installation because normal site-packages is not writeable\n",
      "Requirement already satisfied: elabapi-python in /home/mouss/.local/lib/python3.13/site-packages (5.1.0)\n",
      "Requirement already satisfied: urllib3>=1.15 in /usr/lib/python3.13/site-packages (from elabapi-python) (1.26.20)\n",
      "Requirement already satisfied: six>=1.10 in /usr/lib/python3.13/site-packages (from elabapi-python) (1.16.0)\n",
      "Requirement already satisfied: certifi in /home/mouss/.local/lib/python3.13/site-packages (from elabapi-python) (2025.1.31)\n",
      "Requirement already satisfied: python-dateutil in /usr/lib/python3.13/site-packages (from elabapi-python) (2.8.2)\n"
     ]
    }
   ],
   "source": [
    "!pip install elabapi-python"
   ]
  },
  {
   "cell_type": "markdown",
   "id": "2775c653-92ef-402b-8562-eeee2356e117",
   "metadata": {},
   "source": [
    "After installation, your environment is ready to interact with the eLabFTW API. 🚀\n",
    "\n",
    "📖 **API Documentation:**\n",
    "\n",
    "🔗 **[doc-elabftw-elabapi](https://doc.elabftw.net/api/elabapi-html/)**\n",
    "\n",
    "Additionally, example scripts tailored for users can be found in the **examples** folder of the GitHub repository:\n",
    "\n",
    "\n",
    "📂 **Example Scripts:**\n",
    "\n",
    "🔗 **[Examples using elabapi-python](https://github.com/elabftw/elabapi-python/tree/master/examples)**\n",
    "\n",
    "### Sending a Request to the API\n",
    "\n",
    "To start, we will send a request to the **Info** endpoint, similar to the first example using `curl`. The response should match the output from our earlier `curl` request, confirming that our API authentication and setup are working correctly."
   ]
  },
  {
   "cell_type": "markdown",
   "id": "a447704e-47ac-4343-baae-9b5ee447f12f",
   "metadata": {},
   "source": [
    "## 🔍 Retrieving Environment Variables\n",
    "\n",
    "In Python, you can get environment variables by using `os` module. This allows your script to access sensitive variables (such as the key) without having to write them in the script and prevent accidental leakage."
   ]
  },
  {
   "cell_type": "code",
   "execution_count": 5,
   "id": "e2141723-73fc-4bf0-b5d7-2ec66e1ebb9a",
   "metadata": {},
   "outputs": [],
   "source": [
    "import os"
   ]
  },
  {
   "cell_type": "markdown",
   "id": "b48298b4-7ec2-4bc5-993f-6b16fe45f86a",
   "metadata": {},
   "source": [
    "Let us verify that the correct parameters are present:"
   ]
  },
  {
   "cell_type": "code",
   "execution_count": 65,
   "id": "cbb177de-e367-4d5b-9294-eea696b27a9b",
   "metadata": {},
   "outputs": [
    {
     "name": "stdout",
     "output_type": "stream",
     "text": [
      "https://elab.local:3148/api/v2/\n",
      "apiKey4Test\n"
     ]
    }
   ],
   "source": [
    "print(os.getenv(\"API_URL\"))\n",
    "print(os.getenv(\"API_KEY\"))"
   ]
  },
  {
   "cell_type": "markdown",
   "id": "e50785e4-7136-4d68-842e-fe48108bd361",
   "metadata": {},
   "source": [
    "## Configuring the eLabAPI-Python Client  \n",
    "\n",
    "The following code sets up the `elabapi-python` client by providing the necessary API key, host URL, and security settings.  "
   ]
  },
  {
   "cell_type": "code",
   "execution_count": 43,
   "id": "0fafe029-1af9-4d0e-adc9-bf1d58a0dea0",
   "metadata": {},
   "outputs": [],
   "source": [
    "configuration = elabapi_python.Configuration()"
   ]
  },
  {
   "cell_type": "markdown",
   "id": "f9bee38a-5518-451f-a218-46c2ecab19ec",
   "metadata": {},
   "source": [
    "Creates a new configuration object to store API settings."
   ]
  },
  {
   "cell_type": "code",
   "execution_count": 44,
   "id": "e9bf3f50-61b6-47f8-9904-7ec3513aee7e",
   "metadata": {},
   "outputs": [],
   "source": [
    "configuration.api_key[\"api_key\"] = os.getenv(\"API_KEY\")\n",
    "configuration.api_key_prefix[\"api_key\"] = \"Authorization\""
   ]
  },
  {
   "cell_type": "markdown",
   "id": "2ba1699d-8d7e-4f59-a8e2-9524d95bf0f3",
   "metadata": {},
   "source": [
    "Turns off debug mode, meaning the client won’t print detailed request logs."
   ]
  },
  {
   "cell_type": "code",
   "execution_count": 1,
   "id": "c4cc980a-e4cd-4ebc-b80f-e16a0d243563",
   "metadata": {},
   "outputs": [
    {
     "ename": "NameError",
     "evalue": "name 'os' is not defined",
     "output_type": "error",
     "traceback": [
      "\u001b[0;31m---------------------------------------------------------------------------\u001b[0m",
      "\u001b[0;31mNameError\u001b[0m                                 Traceback (most recent call last)",
      "Cell \u001b[0;32mIn[1], line 1\u001b[0m\n\u001b[0;32m----> 1\u001b[0m configuration\u001b[38;5;241m.\u001b[39mhost \u001b[38;5;241m=\u001b[39m \u001b[43mos\u001b[49m\u001b[38;5;241m.\u001b[39mgetenv(\u001b[38;5;124m\"\u001b[39m\u001b[38;5;124mAPI_URL\u001b[39m\u001b[38;5;124m\"\u001b[39m)\n",
      "\u001b[0;31mNameError\u001b[0m: name 'os' is not defined"
     ]
    }
   ],
   "source": [
    "configuration.host = os.getenv(\"API_URL\")"
   ]
  },
  {
   "cell_type": "code",
   "execution_count": 47,
   "id": "38d11077-6bfb-4b46-8b69-5ee0f14bc625",
   "metadata": {},
   "outputs": [],
   "source": [
    "configuration.verify_ssl = False"
   ]
  },
  {
   "cell_type": "markdown",
   "id": "423caadf-1635-4265-8617-525474c8ad7b",
   "metadata": {},
   "source": [
    "Disables TLS verification () (not recommended for production, but useful for testing in a development environment)."
   ]
  },
  {
   "cell_type": "code",
   "execution_count": 70,
   "id": "34aabe83-49c1-476d-ae47-095d3a7476ed",
   "metadata": {},
   "outputs": [],
   "source": [
    "api_client = elabapi_python.ApiClient(configuration)\n",
    "api_client.set_default_header(header_name=\"Authorization\", header_value=API_KEY)"
   ]
  },
  {
   "cell_type": "markdown",
   "id": "587d6128-51d8-458c-a0f2-1e74095bae29",
   "metadata": {},
   "source": [
    "- Creates an API client using the configured settings, allowing interaction with the eLabFTW API.\n",
    "- Explicitly sets the Authorization header for requests.\n",
    "- This ensures that every API request includes the authentication key automatically.\n",
    "\n",
    "When making API requests to a server with an **untrusted** or **self-signed SSL certificate**, Python’s `urllib3` library will raise security warnings. The following code disables those warnings:"
   ]
  },
  {
   "cell_type": "code",
   "execution_count": 52,
   "id": "9bcf4c2b-a068-4033-b655-21a5ad5f5d1f",
   "metadata": {},
   "outputs": [],
   "source": [
    "import urllib3\n",
    "urllib3.disable_warnings(category=urllib3.exceptions.InsecureRequestWarning)"
   ]
  },
  {
   "cell_type": "markdown",
   "id": "bf5d6b2c-0f6a-41bb-bd59-6be731decb83",
   "metadata": {},
   "source": [
    "Now that the API client is configured, we can create an instance of the **Info API client** and send a request to retrieve system information."
   ]
  },
  {
   "cell_type": "code",
   "execution_count": 54,
   "id": "889040f0-37e2-438e-9468-221936a97274",
   "metadata": {},
   "outputs": [
    {
     "name": "stdout",
     "output_type": "stream",
     "text": [
      "{'active_users_count': 9,\n",
      " 'all_users_count': 10,\n",
      " 'elabftw_version': '5.2.0-alpha',\n",
      " 'elabftw_version_int': 50200,\n",
      " 'experiments_count': 326,\n",
      " 'experiments_timestamped_count': 0,\n",
      " 'items_count': 232,\n",
      " 'teams_count': 4,\n",
      " 'ts_balance': 0,\n",
      " 'uploads_filesize_sum': 2079,\n",
      " 'uploads_filesize_sum_formatted': '2.03 KiB'}\n"
     ]
    }
   ],
   "source": [
    "infoApi = elabapi_python.InfoApi(api_client)\n",
    "\n",
    "api_response = infoApi.get_info()\n",
    "\n",
    "print(api_response)"
   ]
  },
  {
   "cell_type": "markdown",
   "id": "4b457c54-9f7a-4700-842e-aee4793f4f2b",
   "metadata": {},
   "source": [
    "## post exp \n",
    "\n",
    "Now let's post an experiment"
   ]
  },
  {
   "cell_type": "code",
   "execution_count": 60,
   "id": "ee83e91b-6a84-4b87-a2f4-8d48f140135a",
   "metadata": {},
   "outputs": [
    {
     "name": "stdout",
     "output_type": "stream",
     "text": [
      "None\n"
     ]
    }
   ],
   "source": [
    "experimentsApi = elabapi_python.ExperimentsApi(api_client)\n",
    "\n",
    "body={'title':'hi'} \n",
    "\n",
    "api_response = experimentsApi.post_experiment(body=body)\n",
    "print(api_response)"
   ]
  },
  {
   "cell_type": "markdown",
   "id": "443968a0-041d-4009-8a5b-5e1687202a5f",
   "metadata": {},
   "source": [
    "# patch exp\n"
   ]
  },
  {
   "cell_type": "markdown",
   "id": "c9307eea-f259-48b3-b069-548df68bd173",
   "metadata": {},
   "source": [
    "# post fichier\n"
   ]
  },
  {
   "cell_type": "markdown",
   "id": "6922d338-68aa-4ddc-8e7a-b22cad1961f9",
   "metadata": {},
   "source": [
    "# patch ficher\n"
   ]
  },
  {
   "cell_type": "markdown",
   "id": "77952dd4-ea39-4bcc-87af-a6e1ad6f48ad",
   "metadata": {},
   "source": [
    "# get le fchier\n"
   ]
  },
  {
   "cell_type": "markdown",
   "id": "fdf6836a-9c9e-46bc-9436-87e0f0c6777d",
   "metadata": {},
   "source": [
    "# delete"
   ]
  }
 ],
 "metadata": {
  "kernelspec": {
   "display_name": "Python 3 (ipykernel)",
   "language": "python",
   "name": "python3"
  },
  "language_info": {
   "codemirror_mode": {
    "name": "ipython",
    "version": 3
   },
   "file_extension": ".py",
   "mimetype": "text/x-python",
   "name": "python",
   "nbconvert_exporter": "python",
   "pygments_lexer": "ipython3",
   "version": "3.13.2"
  }
 },
 "nbformat": 4,
 "nbformat_minor": 5
}
