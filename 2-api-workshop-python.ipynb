{
 "cells": [
  {
   "cell_type": "markdown",
   "id": "5685cac8-ecca-4149-aa3c-ee812d167047",
   "metadata": {},
   "source": [
    "# eLabFTW - API workshop - Interact using python"
   ]
  },
  {
   "cell_type": "markdown",
   "id": "8faf5115-0c5c-4266-9889-ee4664a2f4a3",
   "metadata": {},
   "source": [
    "## eLabFTW's Python Library: `elabapi-python`\n",
    "\n",
    "description python sympa\n",
    "Python is a programming language \n",
    "\n",
    "We will now send requests to the API using python, and more precisely a library that has been designed for eLabFTW : elabapi_python.\n",
    "\n",
    "This library provides a structured approach to sending API requests, following a defined schema. All available methods and their usage are documented in the official API reference.\n",
    "\n",
    "## Setup the Environment\n",
    "\n",
    "To ensure a clean and isolated workspace, we will set up a **Python virtual environment** and install the required library using `pip`, as per the documentation suggests.\n",
    "\n",
    "We are going to create a virtual environment and activate it with the following commands:"
   ]
  },
  {
   "cell_type": "code",
   "execution_count": 36,
   "id": "3dd30051-96eb-4076-8c2f-95c152470d35",
   "metadata": {},
   "outputs": [
    {
     "name": "stdout",
     "output_type": "stream",
     "text": [
      "Defaulting to user installation because normal site-packages is not writeable\n",
      "Requirement already satisfied: elabapi-python in /home/mouss/.local/lib/python3.13/site-packages (5.1.0)\n",
      "Requirement already satisfied: urllib3>=1.15 in /usr/lib/python3.13/site-packages (from elabapi-python) (1.26.20)\n",
      "Requirement already satisfied: six>=1.10 in /usr/lib/python3.13/site-packages (from elabapi-python) (1.16.0)\n",
      "Requirement already satisfied: certifi in /home/mouss/.local/lib/python3.13/site-packages (from elabapi-python) (2025.1.31)\n",
      "Requirement already satisfied: python-dateutil in /usr/lib/python3.13/site-packages (from elabapi-python) (2.8.2)\n"
     ]
    }
   ],
   "source": [
    "# create environment named 'venv'\n",
    "!python -m venv venv\n",
    "# activate it\n",
    "!source elab/bin/activate\n",
    "# install required library\n",
    "!pip install elabapi-python"
   ]
  },
  {
   "cell_type": "markdown",
   "id": "2775c653-92ef-402b-8562-eeee2356e117",
   "metadata": {},
   "source": [
    "After installation, your environment is ready to interact with the eLabFTW API. 🚀\n",
    "\n",
    "📖 **API Documentation:**\n",
    "\n",
    "🔗 **[doc-elabftw-elabapi](https://doc.elabftw.net/api/elabapi-html/)**\n",
    "\n",
    "Additionally, example scripts tailored for users can be found in the **examples** folder of the GitHub repository:\n",
    "\n",
    "\n",
    "📂 **Example Scripts:**\n",
    "\n",
    "🔗 **[Examples using elabapi-python](https://github.com/elabftw/elabapi-python/tree/master/examples)**\n",
    "\n",
    "### Sending a Request to the API\n",
    "\n",
    "To start, we will send a request to the **Info** endpoint, similar to the first example using `curl`. The response should match the output from our earlier `curl` request, confirming that our API authentication and setup are working correctly."
   ]
  },
  {
   "cell_type": "markdown",
   "id": "a447704e-47ac-4343-baae-9b5ee447f12f",
   "metadata": {},
   "source": [
    "## 🔍 Retrieving Environment Variables\n",
    "\n",
    "In Python, you can get environment variables by using `os` module. This allows your script to access sensitive variables (such as the key) without having to write them in the script and prevent accidental leakage."
   ]
  },
  {
   "cell_type": "code",
   "execution_count": 43,
   "id": "ba0f7ec5-9e1f-4f17-a104-1db8051d5b31",
   "metadata": {},
   "outputs": [
    {
     "name": "stdout",
     "output_type": "stream",
     "text": [
      "env: API_URL=https://elab.local:3148/api/v2\n",
      "env: API_KEY=apiKey4Test\n"
     ]
    }
   ],
   "source": [
    "%env API_URL=https://elab.local:3148/api/v2\n",
    "%env API_KEY=apiKey4Test"
   ]
  },
  {
   "cell_type": "code",
   "execution_count": 44,
   "id": "e2141723-73fc-4bf0-b5d7-2ec66e1ebb9a",
   "metadata": {},
   "outputs": [],
   "source": [
    "import os"
   ]
  },
  {
   "cell_type": "markdown",
   "id": "b48298b4-7ec2-4bc5-993f-6b16fe45f86a",
   "metadata": {},
   "source": [
    "Let us verify that the correct parameters are present:"
   ]
  },
  {
   "cell_type": "code",
   "execution_count": 45,
   "id": "cbb177de-e367-4d5b-9294-eea696b27a9b",
   "metadata": {},
   "outputs": [
    {
     "name": "stdout",
     "output_type": "stream",
     "text": [
      "https://elab.local:3148/api/v2\n",
      "apiKey4Test\n"
     ]
    }
   ],
   "source": [
    "print(os.getenv(\"API_URL\"))\n",
    "print(os.getenv(\"API_KEY\"))"
   ]
  },
  {
   "cell_type": "markdown",
   "id": "e50785e4-7136-4d68-842e-fe48108bd361",
   "metadata": {},
   "source": [
    "## Configuring the eLabAPI-Python Client  \n",
    "\n",
    "The following code sets up the `elabapi-python` client by providing the necessary API key, host URL, and security settings.\n",
    "\n"
   ]
  },
  {
   "cell_type": "code",
   "execution_count": 49,
   "id": "0fafe029-1af9-4d0e-adc9-bf1d58a0dea0",
   "metadata": {},
   "outputs": [],
   "source": [
    "import elabapi_python\n",
    "# initiate a configuration object\n",
    "configuration = elabapi_python.Configuration()\n",
    "# configure API Key\n",
    "configuration.api_key[\"api_key\"] = os.getenv(\"API_KEY\")\n",
    "configuration.api_key_prefix[\"api_key\"] = \"Authorization\"\n",
    "# configure API Url\n",
    "configuration.host = os.getenv(\"API_URL\")\n",
    "#TODO: remove when url corrected\n",
    "configuration.verify_ssl = False"
   ]
  },
  {
   "cell_type": "markdown",
   "id": "0270dbd1-2f35-4be4-8fe1-1f12ae27bf27",
   "metadata": {},
   "source": [
    "Initiate the API Client object with the configuration object."
   ]
  },
  {
   "cell_type": "code",
   "execution_count": 50,
   "id": "34aabe83-49c1-476d-ae47-095d3a7476ed",
   "metadata": {},
   "outputs": [],
   "source": [
    "api_client = elabapi_python.ApiClient(configuration)\n",
    "api_client.set_default_header(header_name=\"Authorization\", header_value=os.getenv(\"API_KEY\"))"
   ]
  },
  {
   "cell_type": "markdown",
   "id": "b0571cb1-5530-46c2-9041-1bf923ebc720",
   "metadata": {},
   "source": [
    "We are now done with the library's configuration. This part has to be included in all scripts."
   ]
  },
  {
   "cell_type": "markdown",
   "id": "66227b54-9db2-4f45-a13f-b84b5639acd1",
   "metadata": {},
   "source": [
    "### Info Endpoint\n",
    "\n",
    "As a first example, we will now use a specific endpoint: `info`."
   ]
  },
  {
   "cell_type": "code",
   "execution_count": 58,
   "id": "889040f0-37e2-438e-9468-221936a97274",
   "metadata": {},
   "outputs": [
    {
     "name": "stdout",
     "output_type": "stream",
     "text": [
      "{'active_users_count': 9,\n",
      " 'all_users_count': 10,\n",
      " 'elabftw_version': '5.2.0-alpha',\n",
      " 'elabftw_version_int': 50200,\n",
      " 'experiments_count': 334,\n",
      " 'experiments_timestamped_count': 0,\n",
      " 'items_count': 232,\n",
      " 'teams_count': 4,\n",
      " 'ts_balance': 0,\n",
      " 'uploads_filesize_sum': 2079,\n",
      " 'uploads_filesize_sum_formatted': '2.03 KiB'}\n"
     ]
    },
    {
     "name": "stderr",
     "output_type": "stream",
     "text": [
      "/usr/lib/python3.13/site-packages/urllib3/connectionpool.py:1064: InsecureRequestWarning: Unverified HTTPS request is being made to host 'elab.local'. Adding certificate verification is strongly advised. See: https://urllib3.readthedocs.io/en/1.26.x/advanced-usage.html#ssl-warnings\n",
      "  warnings.warn(\n"
     ]
    }
   ],
   "source": [
    "# instanciate the infoApi object\n",
    "info_api = elabapi_python.InfoApi(api_client)\n",
    "# make a get request\n",
    "api_response = info_api.get_info()\n",
    "# show the response\n",
    "print(api_response)"
   ]
  },
  {
   "cell_type": "markdown",
   "id": "a7d42726-5043-4b74-a8a7-126b4e75fe1f",
   "metadata": {},
   "source": [
    "And the response you should get back from the server:\n",
    "\n",
    "*Formatted JSON:*\n",
    "```json\n",
    "{\n",
    "    'active_users_count': 9,\n",
    "    'all_users_count': 10,\n",
    "    'elabftw_version': \"5.2.0-alpha\",\n",
    "    'elabftw_version_int': 50200,\n",
    "    'experiments_count': 334,\n",
    "    'experiments_timestamped_count': 0,\n",
    "    'items_count': 232,\n",
    "    'teams_count': 4,\n",
    "    'ts_balance': 0,\n",
    "    'uploads_filesize_sum': 2079,\n",
    "    'uploads_filesize_sum_formatted': \"2.03 KiB\"\n",
    "}\n",
    "```"
   ]
  },
  {
   "cell_type": "markdown",
   "id": "4b457c54-9f7a-4700-842e-aee4793f4f2b",
   "metadata": {},
   "source": [
    "## post exp \n",
    "\n",
    "description of following exec\n"
   ]
  },
  {
   "cell_type": "code",
   "execution_count": 59,
   "id": "ee83e91b-6a84-4b87-a2f4-8d48f140135a",
   "metadata": {},
   "outputs": [
    {
     "name": "stderr",
     "output_type": "stream",
     "text": [
      "/usr/lib/python3.13/site-packages/urllib3/connectionpool.py:1064: InsecureRequestWarning: Unverified HTTPS request is being made to host 'elab.local'. Adding certificate verification is strongly advised. See: https://urllib3.readthedocs.io/en/1.26.x/advanced-usage.html#ssl-warnings\n",
      "  warnings.warn(\n"
     ]
    },
    {
     "name": "stdout",
     "output_type": "stream",
     "text": [
      "None\n"
     ]
    }
   ],
   "source": [
    "experimentsApi = elabapi_python.ExperimentsApi(api_client)\n",
    "\n",
    "body={'title':'hi'} \n",
    "\n",
    "api_response = experimentsApi.post_experiment(body=body)\n",
    "print(api_response)"
   ]
  },
  {
   "cell_type": "markdown",
   "id": "443968a0-041d-4009-8a5b-5e1687202a5f",
   "metadata": {},
   "source": [
    "# patch exp\n"
   ]
  },
  {
   "cell_type": "markdown",
   "id": "c9307eea-f259-48b3-b069-548df68bd173",
   "metadata": {},
   "source": [
    "# post fichier\n"
   ]
  },
  {
   "cell_type": "markdown",
   "id": "6922d338-68aa-4ddc-8e7a-b22cad1961f9",
   "metadata": {},
   "source": [
    "# patch ficher\n"
   ]
  },
  {
   "cell_type": "markdown",
   "id": "77952dd4-ea39-4bcc-87af-a6e1ad6f48ad",
   "metadata": {},
   "source": [
    "# get le fchier\n"
   ]
  },
  {
   "cell_type": "markdown",
   "id": "fdf6836a-9c9e-46bc-9436-87e0f0c6777d",
   "metadata": {},
   "source": [
    "# delete"
   ]
  }
 ],
 "metadata": {
  "kernelspec": {
   "display_name": "Python 3 (ipykernel)",
   "language": "python",
   "name": "python3"
  },
  "language_info": {
   "codemirror_mode": {
    "name": "ipython",
    "version": 3
   },
   "file_extension": ".py",
   "mimetype": "text/x-python",
   "name": "python",
   "nbconvert_exporter": "python",
   "pygments_lexer": "ipython3",
   "version": "3.13.2"
  }
 },
 "nbformat": 4,
 "nbformat_minor": 5
}
