{
 "cells": [
  {
   "cell_type": "markdown",
   "id": "5685cac8-ecca-4149-aa3c-ee812d167047",
   "metadata": {},
   "source": [
    "# (wip) Using the python library - elabapi_python"
   ]
  },
  {
   "cell_type": "markdown",
   "id": "8faf5115-0c5c-4266-9889-ee4664a2f4a3",
   "metadata": {},
   "source": [
    "### eLabFTW's API documentation\n",
    "\n",
    "We will now send requests to the API using python, and more precisely a library that has been designed for eLabFTW : elabapi_python.\n",
    "\n",
    "The documentation can be found here :\n",
    "Link to the documentation\n",
    "https://doc.elabftw.net/api/elabapi-html/\n",
    "\n",
    "Example scripts as well\n",
    "https://github.com/elabftw/elabapi-python/tree/master/examples\n",
    "\n",
    "Here, we will send a request to the **Info** endpoint again. This should display the same result as the example before.\n",
    "\n",
    "# post exp\n",
    "\n",
    "# patch exp\n",
    "\n",
    "# post fichier\n",
    "\n",
    "# patch ficher\n",
    "\n",
    "# get le fchier\n",
    "\n",
    "# delete"
   ]
  }
 ],
 "metadata": {
  "kernelspec": {
   "display_name": "Python 3 (ipykernel)",
   "language": "python",
   "name": "python3"
  },
  "language_info": {
   "codemirror_mode": {
    "name": "ipython",
    "version": 3
   },
   "file_extension": ".py",
   "mimetype": "text/x-python",
   "name": "python",
   "nbconvert_exporter": "python",
   "pygments_lexer": "ipython3",
   "version": "3.13.2"
  }
 },
 "nbformat": 4,
 "nbformat_minor": 5
}
