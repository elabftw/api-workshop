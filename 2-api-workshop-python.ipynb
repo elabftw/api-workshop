{
 "cells": [
  {
   "cell_type": "markdown",
   "id": "5685cac8-ecca-4149-aa3c-ee812d167047",
   "metadata": {},
   "source": [
    "# eLabFTW API workshop - Part 3 - Using Python"
   ]
  },
  {
   "cell_type": "markdown",
   "id": "8faf5115-0c5c-4266-9889-ee4664a2f4a3",
   "metadata": {},
   "source": [
    "## eLabFTW's Python Library: `elabapi-python`\n",
    "\n",
    "Python is a versatile and easy to learn programming language. If you're using a GNU/Linux operating system, it is already installed. Try typing `python` in a terminal.\n",
    "\n",
    "We will now send requests to the API using python, and more specifically a library that has been designed for eLabFTW: `elabapi_python`.\n",
    "\n",
    "This library provides a structured approach to sending API requests, following a defined schema. All available methods and their usage are documented in the official API reference.\n",
    "\n",
    "### Part 1. Setup the Environment\n",
    "\n",
    "To ensure a clean and isolated workspace, we will set up a **Python virtual environment** and install the required library using `pip`.\n",
    "\n",
    "We are going to create a virtual environment and activate it with the following commands:"
   ]
  },
  {
   "cell_type": "code",
   "execution_count": null,
   "id": "3dd30051-96eb-4076-8c2f-95c152470d35",
   "metadata": {},
   "outputs": [],
   "source": [
    "# create environment using venv module (-m venv), named 'venv'\n",
    "!python -m venv venv\n",
    "# activate it\n",
    "!source venv/bin/activate\n",
    "# install required library\n",
    "!pip install elabapi-python"
   ]
  },
  {
   "cell_type": "markdown",
   "id": "2775c653-92ef-402b-8562-eeee2356e117",
   "metadata": {},
   "source": [
    "After installation, your environment is ready to interact with the eLabFTW API. 🚀\n",
    "\n",
    "📖 **API Documentation:**\n",
    "\n",
    "🔗 **[doc-elabftw-elabapi](https://doc.elabftw.net/api/elabapi-html/)**\n",
    "\n",
    "Additionally, example scripts tailored for users can be found in the **examples** folder of the GitHub repository:\n",
    "\n",
    "\n",
    "📂 **Example Scripts:**\n",
    "\n",
    "🔗 **[Examples using elabapi-python](https://github.com/elabftw/elabapi-python/tree/master/examples)**\n",
    "\n",
    "### Sending a Request to the API\n",
    "\n",
    "To start, we will send a request to the **Info** endpoint, similar to the first example using `curl`. The response should match the output from our earlier `curl` request, confirming that our API authentication and setup are working correctly."
   ]
  },
  {
   "cell_type": "markdown",
   "id": "a447704e-47ac-4343-baae-9b5ee447f12f",
   "metadata": {},
   "source": [
    "## Part 2. 🔍 Retrieving Environment Variables\n",
    "\n",
    "In Python, you can get environment variables by using `os` module. This allows your script to access sensitive variables (such as the key) without having to write them in the script and prevent accidental leakage.\n",
    "\n",
    "Set the environment variables as shown in [part 1](1-api-workshop-curl.ipynb#Environment-Setup-&-API-Key-Authentication)."
   ]
  },
  {
   "cell_type": "code",
   "execution_count": null,
   "id": "ba0f7ec5-9e1f-4f17-a104-1db8051d5b31",
   "metadata": {},
   "outputs": [],
   "source": [
    "%env API_URL=https://api-workshop.elab.one/api/v2\n",
    "%env API_KEY=1-d0336f788bd0c1984ff5f9e6a198e43c95367072bb149225aff9aeb5bf1283f1231f20e863b2c2399cc31"
   ]
  },
  {
   "cell_type": "code",
   "execution_count": null,
   "id": "e2141723-73fc-4bf0-b5d7-2ec66e1ebb9a",
   "metadata": {},
   "outputs": [],
   "source": [
    "import os"
   ]
  },
  {
   "cell_type": "markdown",
   "id": "b48298b4-7ec2-4bc5-993f-6b16fe45f86a",
   "metadata": {},
   "source": [
    "Let us verify that the correct parameters are present:"
   ]
  },
  {
   "cell_type": "code",
   "execution_count": null,
   "id": "cbb177de-e367-4d5b-9294-eea696b27a9b",
   "metadata": {},
   "outputs": [],
   "source": [
    "print(os.getenv(\"API_URL\"))\n",
    "print(os.getenv(\"API_KEY\"))"
   ]
  },
  {
   "cell_type": "markdown",
   "id": "e50785e4-7136-4d68-842e-fe48108bd361",
   "metadata": {},
   "source": [
    "## Part 3. Configuring the eLabAPI-Python Client  \n",
    "\n",
    "The following code sets up the `elabapi-python` client by providing the necessary API key, host URL, and security settings.\n",
    "\n"
   ]
  },
  {
   "cell_type": "code",
   "execution_count": null,
   "id": "0fafe029-1af9-4d0e-adc9-bf1d58a0dea0",
   "metadata": {},
   "outputs": [],
   "source": [
    "import elabapi_python\n",
    "# initiate a configuration object\n",
    "configuration = elabapi_python.Configuration()\n",
    "# configure API Key\n",
    "configuration.api_key[\"api_key\"] = os.getenv(\"API_KEY\")\n",
    "configuration.api_key_prefix[\"api_key\"] = \"Authorization\"\n",
    "# configure API Url\n",
    "configuration.host = os.getenv(\"API_URL\")\n",
    "#TODO: remove when url corrected\n",
    "configuration.verify_ssl = False"
   ]
  },
  {
   "cell_type": "markdown",
   "id": "0270dbd1-2f35-4be4-8fe1-1f12ae27bf27",
   "metadata": {},
   "source": [
    "Initiate the API Client object with the configuration object."
   ]
  },
  {
   "cell_type": "code",
   "execution_count": null,
   "id": "34aabe83-49c1-476d-ae47-095d3a7476ed",
   "metadata": {},
   "outputs": [],
   "source": [
    "api_client = elabapi_python.ApiClient(configuration)\n",
    "api_client.set_default_header(header_name=\"Authorization\", header_value=os.getenv(\"API_KEY\"))"
   ]
  },
  {
   "cell_type": "markdown",
   "id": "b0571cb1-5530-46c2-9041-1bf923ebc720",
   "metadata": {},
   "source": [
    "We are now done with the library's configuration. This part has to be included in all scripts."
   ]
  },
  {
   "cell_type": "markdown",
   "id": "66227b54-9db2-4f45-a13f-b84b5639acd1",
   "metadata": {},
   "source": [
    "### Info Endpoint\n",
    "\n",
    "As a first example, we will now use a specific endpoint: `info`."
   ]
  },
  {
   "cell_type": "code",
   "execution_count": null,
   "id": "889040f0-37e2-438e-9468-221936a97274",
   "metadata": {},
   "outputs": [],
   "source": [
    "# instanciate the infoApi object\n",
    "info_api = elabapi_python.InfoApi(api_client)\n",
    "# make a get request\n",
    "api_response = info_api.get_info()\n",
    "# show the response\n",
    "print(api_response)"
   ]
  },
  {
   "cell_type": "markdown",
   "id": "a7d42726-5043-4b74-a8a7-126b4e75fe1f",
   "metadata": {},
   "source": [
    "And the response you should get back from the server:\n",
    "\n",
    "*Formatted JSON:*\n",
    "```json\n",
    "{\n",
    "    'active_users_count': 9,\n",
    "    'all_users_count': 10,\n",
    "    'elabftw_version': \"5.2.0-alpha\",\n",
    "    'elabftw_version_int': 50200,\n",
    "    'experiments_count': 334,\n",
    "    'experiments_timestamped_count': 0,\n",
    "    'items_count': 232,\n",
    "    'teams_count': 4,\n",
    "    'ts_balance': 0,\n",
    "    'uploads_filesize_sum': 2079,\n",
    "    'uploads_filesize_sum_formatted': \"2.03 KiB\"\n",
    "}"
   ]
  },
  {
   "cell_type": "markdown",
   "id": "4b457c54-9f7a-4700-842e-aee4793f4f2b",
   "metadata": {},
   "source": [
    "## Part 4. Full **CRUD**\n",
    "\n",
    "We will now **C**reate, **R**ead, **U**pdate and **D**elete using the library.\n",
    "\n",
    "### Let's post an experiment \n",
    "\n",
    "This command leverages the elabapi_python library to send a POST request that creates a new experiment."
   ]
  },
  {
   "cell_type": "code",
   "execution_count": null,
   "id": "ee83e91b-6a84-4b87-a2f4-8d48f140135a",
   "metadata": {},
   "outputs": [],
   "source": [
    "experiments_api = elabapi_python.ExperimentsApi(api_client)\n",
    "# post a new experiment\n",
    "experiments_api.post_experiment()"
   ]
  },
  {
   "attachments": {
    "1062f711-89c8-401b-8f21-c8e8efd23495.png": {
     "image/png": "[encoded data removed]"
    }
   },
   "cell_type": "markdown",
   "id": "e8aa6083-cd45-4c0e-98d1-00268f4eb811",
   "metadata": {},
   "source": [
    "<div class=\"alert alert-block alert-success\"><b>Success:</b> The experiment has been created in your eLabFTW instance and now exists under the title <b>\"Untitled\"</b>. 🎉 </div>\n",
    "\n",
    "![image.png](attachment:1062f711-89c8-401b-8f21-c8e8efd23495.png)\n",
    "\n",
    "Instead of relying on the default **\"Untitled\"**, let's create an experiment with a defined title. This will demonstrate how to use the same function while passing a **JSON payload**."
   ]
  },
  {
   "cell_type": "code",
   "execution_count": null,
   "id": "6e46e163-c472-435d-adf0-b6c3b1704fa7",
   "metadata": {},
   "outputs": [],
   "source": [
    "# define the experiment data (payload)\n",
    "payload = {'title': 'This has been created in Jupyter Notebook using the python library.'}\n",
    "# assign the payload to the request body\n",
    "experiments_api.post_experiment(body=payload)"
   ]
  },
  {
   "cell_type": "markdown",
   "id": "443968a0-041d-4009-8a5b-5e1687202a5f",
   "metadata": {},
   "source": [
    "### Patch an experiment\n",
    "\n",
    "This command sends a PATCH request that updates an existing experiment using its provided ID and the necessary modifications."
   ]
  },
  {
   "cell_type": "code",
   "execution_count": null,
   "id": "f5708a58-413d-4c03-a404-ea3e270e42c7",
   "metadata": {},
   "outputs": [],
   "source": [
    "# id of the experiment to be patched\n",
    "exp_id = 4\n",
    "# define the parameters for patching the experiment\n",
    "payload = {\n",
    "    \"title\" : \"Title updated via Jupyter Notebook with elabapi-python\"\n",
    "}\n",
    "# assign the id, the request body and send the pach\n",
    "patch_response = experiments_api.patch_experiment(exp_id, body=payload)\n",
    "print(patch_response)"
   ]
  },
  {
   "cell_type": "markdown",
   "id": "93f7dbae-76be-448c-9a57-5a515ab39294",
   "metadata": {},
   "source": [
    "<div class=\"alert alert-block alert-success\"><b>Success:</b> The experiment has been been patched. The resource's information is returned. 🎉 </div>"
   ]
  },
  {
   "cell_type": "markdown",
   "id": "c9307eea-f259-48b3-b069-548df68bd173",
   "metadata": {},
   "source": [
    "### Upload a file"
   ]
  },
  {
   "cell_type": "code",
   "execution_count": null,
   "id": "7aeda74f-7cb2-4e1b-bfa6-98133006a0e6",
   "metadata": {},
   "outputs": [],
   "source": [
    "uploads_api = elabapi_python.UploadsApi(api_client)\n",
    "\n",
    "# upload the file 'antibodies.csv' present in the data folder\n",
    "uploads_api.post_upload('experiments', exp_id, file='data/antibodies.csv', comment='Uploaded with elabapi-python')\n",
    "# we can print a list of the uploaded files\n",
    "for upload in uploads_api.read_uploads('experiments', exp_id):\n",
    "    print(upload.id, upload.real_name, upload.comment)"
   ]
  },
  {
   "cell_type": "markdown",
   "id": "8492a540-751c-4b92-bc66-0dc0e9d120a3",
   "metadata": {},
   "source": [
    "<div class=\"alert alert-block alert-success\"><b>Success:</b> The file has been uploaded to the experiment. 🎉</div>"
   ]
  },
  {
   "cell_type": "markdown",
   "id": "6922d338-68aa-4ddc-8e7a-b22cad1961f9",
   "metadata": {},
   "source": [
    "### Replace an existing file with a new one\n",
    "\n",
    "You can replace an existing file by providing its ID, and the new file as parameters."
   ]
  },
  {
   "cell_type": "code",
   "execution_count": null,
   "id": "ba7f4ff8-6c20-4d83-9e09-040bcfa9b44a",
   "metadata": {},
   "outputs": [],
   "source": [
    "# get the latest id created\n",
    "uploads = list(uploads_api.read_uploads('experiments', id))\n",
    "newest_upload_id = uploads[-1].id\n",
    "\n",
    "# replace the file 'antibodies.csv' with a file of your choice, e.g. 'README.md'\n",
    "uploads_api.post_upload_replace('experiments', exp_id, newest_upload_id, file='README.md', comment='Replaced antibodies.csv with README.md')\n",
    "\n",
    "for upload in uploads_api.read_uploads('experiments', exp_id):\n",
    "    print(upload.id, upload.real_name, upload.comment)"
   ]
  },
  {
   "cell_type": "markdown",
   "id": "336cf6fc-122a-47d9-b30a-0ccdf2e95dc1",
   "metadata": {},
   "source": [
    "<div class=\"alert alert-block alert-success\"><b>Success:</b> The file 'antibodies.csv' has been replaced by the 'README.md'. 🎉</div>"
   ]
  },
  {
   "cell_type": "markdown",
   "id": "77952dd4-ea39-4bcc-87af-a6e1ad6f48ad",
   "metadata": {},
   "source": [
    "### Download the file locally\n",
    "\n",
    "You can download the file via the API and also perform a delete."
   ]
  },
  {
   "cell_type": "code",
   "execution_count": null,
   "id": "8d5774ac-974f-4039-b3ad-2075612e73ac",
   "metadata": {},
   "outputs": [],
   "source": [
    "# display id, name and comment of the uploaded files\n",
    "for upload in uploads_api.read_uploads('experiments', exp_id):\n",
    "    print(upload.id, upload.real_name, upload.comment)\n",
    "    # get and save file\n",
    "    with open(f'README.md', 'wb') as file:\n",
    "        file.write(uploads_api.read_upload('experiments', exp_id, upload.id, format='binary', _preload_content=False).data)\n",
    "    # delete all the files where the name is 'README.md'\n",
    "    if upload.real_name == 'README.md':\n",
    "        uploads_api.delete_upload('experiments', exp_id, upload.id)"
   ]
  }
 ],
 "metadata": {
  "kernelspec": {
   "display_name": "Python 3 (ipykernel)",
   "language": "python",
   "name": "python3"
  },
  "language_info": {
   "codemirror_mode": {
    "name": "ipython",
    "version": 3
   },
   "file_extension": ".py",
   "mimetype": "text/x-python",
   "name": "python",
   "nbconvert_exporter": "python",
   "pygments_lexer": "ipython3",
   "version": "3.13.2"
  }
 },
 "nbformat": 4,
 "nbformat_minor": 5
}
