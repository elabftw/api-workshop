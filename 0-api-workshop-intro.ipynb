{
 "cells": [
  {
   "attachments": {
    "286f56d0-f2e9-4f20-acbb-74db55c87464.png": {
     "image/png": "[encoded data removed]"
    }
   },
   "cell_type": "markdown",
   "id": "8a150ba7-0125-45e0-b055-711b968d9a79",
   "metadata": {},
   "source": [
    "# eLabFTW - API workshop\n",
    "\n",
    "Welcome to this workshop! This project will guide you towards mastering the **eLabFTW** API.\n",
    "\n",
    "It is split in three parts, each in their own notebook. The first part is the one you're reading, introducing base concepts such as HTTP verbs and the REST architecture. The second part explains how to use `curl` to interact with the API, while the third and last part focuses on using the Python library [elabapi-python](https://github.com/elabftw/elabapi-python).\n",
    "\n",
    "## Introduction\n",
    "\n",
    "This workshop is suitable for complete beginners as well as advanced users. Participants will learn how to authenticate, retrieve, create, update, and delete entries through API calls. The workshop emphasizes practical, beginner-friendly examples, making it suitable even for those new to REST APIs and Python programming. By the end, attendees will gain confidence in using eLabFTW's API to automate their lab workflows.\n",
    "\n",
    "## How to navigate through this Notebook\n",
    "\n",
    "If you are new to JupyterLab, the interface might seem a bit unfamiliar at first. This notebook is structured into cells, which you can execute by clicking the Play ( ▶ ) button near each cell, or hit `ctrl` + `enter`:\n",
    "![image.png](attachment:286f56d0-f2e9-4f20-acbb-74db55c87464.png)\n",
    "\n",
    "There are two types of cells:\n",
    "\n",
    "- Markdown cells (used for text and explanations)\n",
    "- Executable code cells (where you can run Python or other code)\n",
    "\n",
    "To fully explore the interactive features of this notebook, you'll need to run specific cells as instructed.\n",
    "\n",
    "## Chapter 1: What is an API ?\n",
    "\n",
    "**API (Application Programming Interface)**: A set of rules that allows different software applications to communicate with each other.\n",
    "\n",
    "**REST (Representational State Transfer)**: A style of web API design that uses standard HTTP methods (GET, POST, PUT, DELETE) for communication and is stateless.\n",
    "\n",
    "Here are key points to be identified: \n",
    "\n",
    "- There is a client / server architecture: you are the client and the instance of eLabFTW is the server.\n",
    "- Stateless client / server communication: there is nothing stored between requests\n",
    "- The interface is uniform: if something works somewhere, it'll work similarly elsewhere\n",
    "\n",
    "![postman api description](https://github.com/elabftw/api-workshop/blob/master/assets/0-postman-api-description.png?raw=true)\n",
    "\n",
    "*Image © 2024 Postman, Inc.\n",
    "https://www.postman.com/what-is-an-api/*"
   ]
  },
  {
   "cell_type": "markdown",
   "id": "eccf98a4-ed5c-4dc5-bbbc-038d5bec51b7",
   "metadata": {},
   "source": [
    "## Chapter 2: eLabFTW API specifications\n",
    "\n",
    "- Available at `/api/v2/`\n",
    "- Tools to access it:\n",
    "  - Your browser (only GET requests)\n",
    "  - Curl (command-line tool)\n",
    "  - Anything able to make an HTTP request (virtually all programming languages such as Python, R, or Ruby)\n",
    "\n",
    "- Uses HTTP verbs for different actions:\n",
    "  - **Create** → `POST`\n",
    "  - **Read** → `GET`\n",
    "  - **Update** → `PATCH`\n",
    "  - **Delete** → `DELETE`\n",
    "\n",
    "These actions brought together are often referred to as `CRUD`.\n",
    "\n",
    "Below is an example of a terminal command, using curl to send a GET request to the demo instance."
   ]
  },
  {
   "cell_type": "code",
   "execution_count": null,
   "id": "8df9bba1-c109-4ca1-bfcd-8365c5e525c1",
   "metadata": {},
   "outputs": [],
   "source": [
    "! curl https://demo.elabftw.net/api/v2/"
   ]
  },
  {
   "cell_type": "markdown",
   "id": "e221b529-c624-4dad-b5e7-beb3a1bac8f1",
   "metadata": {},
   "source": [
    "~~~bash\n",
    "curl https://elabftw.example.com/api/v2/\n",
    "\n",
    "> GET /api/v2/ HTTP/2\n",
    "< HTTP/2 401\n",
    "< content-type: application/json\n",
    "{\n",
    "  \"code\": 401,\n",
    "  \"message\": \"Unauthorized\",\n",
    "  \"description\": \"Authentication required\"\n",
    "}\n",
    "~~~"
   ]
  },
  {
   "cell_type": "markdown",
   "id": "fe4f4133-8b8a-443a-a1ca-3f805e9d76de",
   "metadata": {},
   "source": [
    "**Explanation:**\n",
    "- A **GET** request is sent to `/api/v2/`.\n",
    "- The server replies by sending back a response.\n",
    "- The response's status code indicates that we are not authorized to access this resource and need to authenticate. In this case, the status code is [401](https://developer.mozilla.org/fr/docs/Web/HTTP/Status/401), a standardized code indicating authentication is necessary.\n",
    "- **content-type** is a header indicating the format of the response. In this case: [application/json](https://developer.mozilla.org/en-US/docs/Web/HTTP/Headers/Content-Type#content-type_in_a_rest_api_using_json).\n",
    "- The body of the response is a JSON object, containing three keys: **\"code\"**, **\"message\"**, and **\"description\"**.\n",
    "\n",
    "### HTTP Status Codes (Response Codes and Their Meaning)\n",
    "\n",
    "Here is a non exhaustive list of the status code you might obtain while using eLabFTW's API:\n",
    "\n",
    "- 200 OK: The request was successful, and the response contains the requested data.\n",
    "- 201 Created: The resource was successfully created, and no further content is returned.\n",
    "- 400 Bad Request: The request was invalid or malformed, requiring modification before resubmission.\n",
    "- 401 Unauthorized: Authentication is required\n",
    "- 403 Forbidden: You cannot access this resource\n",
    "- 404 Not Found: You know this one ;)\n",
    "- 405 Method Not Allowed: If the HTTP verb isn't supported on this endpoint\n",
    "- 50X Server Error: An issue occurred on the server side, preventing the request from being processed.\n",
    "\n",
    "#### Illustration of simple requests\n",
    "\n",
    "<code>\n",
    "    <span style=\"color:gray\">Fetch a list of experiments</span>\n",
    "    <span style=\"color:blue\">GET</span> https://elab.example.org/api/v2/experiments\n",
    "</code>\n",
    "\n",
    "<code>\n",
    "    <span style=\"color:gray\">Delete the experiment with id 42</span>\n",
    "    <span style=\"color:red\">DELETE</span> https://elab.example.org/api/v2/experiments/42\n",
    "</code>\n",
    "<br>\n",
    "Congratulations on completing the first part of the course! Now, we can move on to making our own cURL requests via the command line.\n",
    "\n",
    " ➡️ See [part two](./1-api-workshop-curl.ipynb) of this course."
   ]
  }
 ],
 "metadata": {
  "kernelspec": {
   "display_name": "Python 3 (ipykernel)",
   "language": "python",
   "name": "python3"
  },
  "language_info": {
   "codemirror_mode": {
    "name": "ipython",
    "version": 3
   },
   "file_extension": ".py",
   "mimetype": "text/x-python",
   "name": "python",
   "nbconvert_exporter": "python",
   "pygments_lexer": "ipython3",
   "version": "3.13.2"
  }
 },
 "nbformat": 4,
 "nbformat_minor": 5
}
