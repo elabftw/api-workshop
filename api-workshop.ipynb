{
 "cells": [
  {
   "cell_type": "markdown",
   "id": "8a150ba7-0125-45e0-b055-711b968d9a79",
   "metadata": {},
   "source": [
    "# eLabFTW API workshop\n",
    "\n",
    "## 1. Getting started\n",
    "\n",
    "~~~bash\n",
    "git clone https://github.com/elabftw/api-workshop\n",
    "python -m venv venv\n",
    "source venv/bin/activate\n",
    "pip install elabapi-python\n",
    "~~~\n"
   ]
  },
  {
   "cell_type": "code",
   "execution_count": 4,
   "id": "bd57ca38-c606-42b4-81c9-af7f5d02c75e",
   "metadata": {},
   "outputs": [],
   "source": [
    "import elabapi_python"
   ]
  },
  {
   "cell_type": "code",
   "execution_count": null,
   "id": "6fdb8105-0759-4b78-b824-3d03b35e6343",
   "metadata": {},
   "outputs": [],
   "source": []
  }
 ],
 "metadata": {
  "kernelspec": {
   "display_name": "Python 3 (ipykernel)",
   "language": "python",
   "name": "python3"
  },
  "language_info": {
   "codemirror_mode": {
    "name": "ipython",
    "version": 3
   },
   "file_extension": ".py",
   "mimetype": "text/x-python",
   "name": "python",
   "nbconvert_exporter": "python",
   "pygments_lexer": "ipython3",
   "version": "3.13.1"
  }
 },
 "nbformat": 4,
 "nbformat_minor": 5
}
