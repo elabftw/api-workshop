{
 "cells": [
  {
   "cell_type": "markdown",
   "id": "b95deda8-5dc6-4422-80ca-992980be8cc4",
   "metadata": {},
   "source": [
    "# eLabFTW API workshop - Part 2 - Using curl\n",
    "\n",
    "This notebook will guide you towards using the `curl` command line tool to make requests. But first, we need a key!"
   ]
  },
  {
   "attachments": {},
   "cell_type": "markdown",
   "id": "3ea849d2-11a3-46d1-a2f3-efd5add15ad0",
   "metadata": {},
   "source": [
    "## Chapter 1: Create your API Key\n",
    "\n",
    "As an eLabFTW user, you already have an account and can navigate to your settings to generate an API key for authentication.\n",
    "\n",
    "For this part, we will need to login via the web interface to manage the api keys.\n",
    "\n",
    "Here is the link to your local instance:\n",
    "\n",
    "[API Workshop Instance](https://api-workshop.elab.one)\n",
    "\n",
    "#### 1. Log in and go to your `settings`\n",
    "\n",
    "![login settings](https://github.com/elabftw/api-workshop/blob/master/assets/1-login-settings.png?raw=true)\n",
    "\n",
    "*(Click on the settings icon from the dropdown menu.)*\n",
    "\n",
    "#### 2. Navigate to the `API KEYS` tab\n",
    "\n",
    "![api keys navigation tab](https://github.com/elabftw/api-workshop/blob/master/assets/2-api-keys-tab.png?raw=true)\n",
    "\n",
    "\n",
    "*(Find the API Key section where you can manage your keys.)*\n",
    "\n",
    "#### 3. Create a read/write key\n",
    "- Enter a name for the key (*e.g.* `api-for-test`).  \n",
    "- Select the appropriate permission level. In this case, **read/write** would be appropriate for the course.\n",
    "- Click **Generate API Key**.\n",
    "\n",
    "\n",
    "![api key full tab](https://github.com/elabftw/api-workshop/blob/master/assets/3-api-key-full-tab.png?raw=true)\n",
    "\n",
    "Congratulations! The API Key has been generated. Make sure to save it somewhere safe. We will need it now to send requests to the API.\n",
    "\n",
    "![api key generated](https://github.com/elabftw/api-workshop/blob/master/assets/4-api-key-generated.png?raw=true)"
   ]
  },
  {
   "cell_type": "markdown",
   "id": "774e8e35-cdbc-49e0-8670-707d8c0253a4",
   "metadata": {},
   "source": [
    "## Chapter 2: Make your first curl request with an API key"
   ]
  },
  {
   "cell_type": "markdown",
   "id": "e713331b-4a39-4421-bfce-1b5d15571c25",
   "metadata": {},
   "source": [
    "### Environment Setup & API Key Authentication\n",
    "\n",
    "Before interacting with the API, the first step is to configure the necessary environment variables. These variables enable seamless communication with the API without requiring repeated manual input.\n",
    "\n",
    "You will need to define the following:\n",
    "- `API_URL`: The base URL of your eLabFTW instance.\n",
    "- `API_KEY`:  The API key you recently generated.\n",
    "\n",
    "In **Jupyter Lab**, you can use the `%env` magic command to set these environment variables, making them reusable by assigning them a key (name) instead of manually entering the full values each time.\n",
    "\n",
    "#### Example: Setting Environment Variables"
   ]
  },
  {
   "cell_type": "markdown",
   "id": "95cff76c-60e1-4114-ba6c-3eedbaaffaf8",
   "metadata": {},
   "source": [
    "<div class=\"alert alert-block alert-info\"><b>ⓘ Note:</b> Use your generated API Key and your API URL to adapt the code below.<br> <em>e.g.</em> %env API_URL=yourdomain.elab/api/v2/</div>"
   ]
  },
  {
   "cell_type": "code",
   "execution_count": null,
   "id": "a4094eda-0522-4de0-87da-3d138ddeaafe",
   "metadata": {},
   "outputs": [],
   "source": [
    "%env API_URL=https://api-workshop.elab.one/api/v2/\n",
    "%env API_KEY="
   ]
  },
  {
   "cell_type": "markdown",
   "id": "58629361-957c-4383-91b1-af38c49ae8fd",
   "metadata": {},
   "source": [
    "#### Verifying the Configuration"
   ]
  },
  {
   "cell_type": "code",
   "execution_count": null,
   "id": "0bbbd2bf-2fa9-493a-9781-2b47525fcb09",
   "metadata": {},
   "outputs": [],
   "source": [
    "!env | grep API"
   ]
  },
  {
   "cell_type": "markdown",
   "id": "49890716-936a-4aaf-82f6-17025eccc195",
   "metadata": {},
   "source": [
    "<div class=\"alert alert-block alert-success\"><b>Success:</b> This will display all environment variables containing <b>\"API_\"</b>, ensuring they are correctly stored and accessible for further API interactions.</div>\n",
    "\n"
   ]
  },
  {
   "cell_type": "markdown",
   "id": "35e616ed-c83f-459a-b414-e0a15adedd7f",
   "metadata": {},
   "source": [
    "### Now interact with the API!\n",
    "\n",
    "Execute this command, and see below the explanation."
   ]
  },
  {
   "cell_type": "code",
   "execution_count": null,
   "id": "3945d93c-ec44-422f-961d-38e3c02875d6",
   "metadata": {},
   "outputs": [],
   "source": [
    "! curl $API_URL -H \"Authorization: $API_KEY\""
   ]
  },
  {
   "cell_type": "markdown",
   "id": "c3287ac1-c5db-4dc4-a4bd-72fc85cae28e",
   "metadata": {},
   "source": [
    "**Explanation** :\n",
    "- `curl`: A command-line tool for making HTTP requests.\n",
    "- `-H \"Authorization: $API_KEY\"`: Adds an HTTP header for authentication, using your API key.\n",
    "\n",
    "<div class=\"alert alert-block alert-warning\"><b>💡 Important:</b> Always use double quotes (\") around <b>\"Authorization: ...\"</b> to ensure the terminal correctly interprets the $API_KEY variable. Using single quotes (') would pass the string literally instead of expanding the variable.</div>\n",
    "\n",
    "And the response you should get back from the server:\n",
    "\n",
    "*Formatted JSON:*\n",
    "\n",
    "~~~json\n",
    "{\n",
    "   \"code\":400,\n",
    "   \"message\":\"Bad Request\",\n",
    "   \"description\":\"Invalid endpoint: available endpoints: apikeys, batch, config, idps, idps_sources, import, info, experiments, exports, items, experiments_templates, items_types, event, events, extra_fields_keys, favtags, team_tags, teams, todolist, unfinished_steps, users\"\n",
    "}\n",
    "~~~\n",
    "\n",
    "The error message indicates that the request was made to an invalid or non-existent endpoint. The API responded with a 400 Bad Request error, meaning the request is not correctly formatted or does not match an available resource.\n",
    "\n",
    "The description provides a list of valid endpoints, such as apikeys, config, experiments, users, etc. This suggests that the issue is likely due to a typo in the endpoint name or an incorrect URL structure. To resolve this, on the next step we will use one of the listed endpoints in the request.\n",
    "\n",
    "### **You may also receive:**\n",
    "\n",
    "#### Authentication required\n",
    "\n",
    "~~~json\n",
    "{\"code\":401,\"message\":\"Unauthorized\",\"description\":\"Authentication required\"}\n",
    "~~~\n",
    "\n",
    "**Explanation:**\n",
    "This error occurs when the API key is incorrect or missing. The server rejects the request because authentication is required but not properly provided. Ensure that:\n",
    "\n",
    "- Your API key is correctly set in the environment\n",
    "- You are using double quotes around \"Authorization: $API_KEY\" in your curl request.\n",
    "\n",
    "#### No corresponding API Key\n",
    "\n",
    "<div class=\"alert alert-block alert-danger\">No corresponding API key found!</div>\n",
    "\n",
    "**Explanation:**\n",
    "This message indicates that the provided API key exists and is correctly formatted, but it does not match any valid key on this eLabFTW instance. Possible reasons include:\n",
    "\n",
    "- The API key was created in a different eLabFTW instance.\n",
    "- The key has been revoked or deleted.\n",
    "- The key was not copied correctly when set in the environment.\n",
    "\n",
    "🔹 Solution: Double-check that you're using an active API key from the correct eLabFTW instance."
   ]
  },
  {
   "cell_type": "markdown",
   "id": "aa871414-4aa6-4475-9fe3-160aaf6ae1cc",
   "metadata": {},
   "source": [
    "## Chapter 3: Try with existing endpoints"
   ]
  },
  {
   "attachments": {},
   "cell_type": "markdown",
   "id": "17f13ad1-5bee-42e8-949e-1c5282871530",
   "metadata": {},
   "source": [
    "### Try with the `/info` endpoint.\n",
    "\n",
    "![api info endpoint](https://github.com/elabftw/api-workshop/blob/master/assets/5-api-info-endpoint.png?raw=true)\n",
    "\n",
    "See [documentation](http://localhost:8085/#/Info/get-info) for this endpoint. We will execute the code below."
   ]
  },
  {
   "cell_type": "code",
   "execution_count": null,
   "id": "1e99f2b5-b45e-48be-aa82-7957868b76a4",
   "metadata": {},
   "outputs": [],
   "source": [
    "! curl \"$API_URL\"/info -H \"Authorization: $API_KEY\""
   ]
  },
  {
   "cell_type": "markdown",
   "id": "8e70a0f2-94b3-4c29-874e-8912bd8afaa7",
   "metadata": {},
   "source": [
    "*Formatted JSON:*\n",
    "~~~json\n",
    "{\n",
    "   \"elabftw_version\":\"5.2.0-alpha\",\n",
    "   \"elabftw_version_int\":50200,\n",
    "   \"ts_balance\":0,\n",
    "   \"ts_limit\":0,\n",
    "   \"uploads_filesize_sum\":116507,\n",
    "   \"uploads_filesize_sum_formatted\":\"113.78 KiB\",\n",
    "   \"all_users_count\":2,\n",
    "   \"active_users_count\":2,\n",
    "   \"items_count\":0,\n",
    "   \"teams_count\":2,\n",
    "   \"experiments_count\":1,\n",
    "   \"experiments_timestamped_count\":0,\n",
    "   \"entities_timestamped_count_last_30_days\":0\n",
    "}\n",
    "~~~"
   ]
  },
  {
   "cell_type": "markdown",
   "id": "a2a60b57-373c-45d7-8877-f5cd725575ee",
   "metadata": {},
   "source": [
    "### Now try with an non existent experiment: `/experiments`"
   ]
  },
  {
   "cell_type": "code",
   "execution_count": null,
   "id": "370884c8-982e-4385-95bb-e7ef8352afd3",
   "metadata": {},
   "outputs": [],
   "source": [
    "! curl \"$API_URL\"/experiments/13044 -H \"Authorization: $API_KEY\""
   ]
  },
  {
   "cell_type": "markdown",
   "id": "d08443ee-7f85-4f59-b8b2-d01f3b80440d",
   "metadata": {},
   "source": [
    "*Formatted JSON:*\n",
    "~~~json\n",
    "{\n",
    "   \"code\":404,\n",
    "   \"message\":\"Resource Not Found\",\n",
    "   \"description\":\"The resource was not found.\"\n",
    "}\n",
    "~~~"
   ]
  },
  {
   "cell_type": "markdown",
   "id": "466fa11f-313b-4c86-b27f-426a72e25899",
   "metadata": {},
   "source": [
    "## Documentation"
   ]
  },
  {
   "attachments": {},
   "cell_type": "markdown",
   "id": "c044b2ca-e96e-4913-9427-4f6cd2982ce9",
   "metadata": {},
   "source": [
    "You will find on this page all endpoints documented (*e.g.* `apikeys`, `experiments`, `config` *etc.*), with their different verbs (*e.g.* `GET`, `PATCH`).\n",
    "\n",
    "https://doc.elabftw.net/api/v2/\n",
    "\n",
    "![api swagger display full](https://github.com/elabftw/api-workshop/blob/master/assets/6-api-swagger-display.png?raw=true)\n"
   ]
  },
  {
   "cell_type": "markdown",
   "id": "cce320bb-4a74-496d-bbeb-60d5b310f664",
   "metadata": {},
   "source": [
    "## Chapter 4: Perform a full CRUD with eLabFTW's API\n",
    "\n",
    "Now that you have all the tools at your disposal, let us perform some actions from A to Z with the API. We are going to **C**reate, **R**ead, **U**pdate and **D**elete an experiment (**CRUD**)."
   ]
  },
  {
   "attachments": {},
   "cell_type": "markdown",
   "id": "5a978bb1-4ff7-470a-a0e5-769bb7b47f79",
   "metadata": {},
   "source": [
    "### Post an experiment\n",
    "\n",
    "![api experiments endpoint](https://github.com/elabftw/api-workshop/blob/master/assets/7-api-experiments-endpoint.png?raw=true)\n",
    "\n",
    "~~~bash\n",
    "curl -X 'POST' \\\n",
    "  'https://elab.local:3148/api/v2/experiments' \\\n",
    "  -H 'accept: */*' \\\n",
    "  -H \"Authorization: $K\" \\\n",
    "  -H 'Content-Type: application/json' \\\n",
    "  -d '{\n",
    "  \"body\": \"<h1>Section title</h1><p>Main text of resource</p>\",\n",
    "  \"canread\": \"{\\\"base\\\": 20, \\\"teams\\\": [], \\\"users\\\": [1], \\\"teamgroups\\\": [1]}\",\n",
    "  \"canwrite\": \"{\\\"base\\\": 20, \\\"teams\\\": [], \\\"users\\\": [1], \\\"teamgroups\\\": [1]}\",\n",
    "  \"category\": 3,\n",
    "  \"content_type\": 1,\n",
    "  \"metadata\": {\n",
    "    \"extra_fields\": {\n",
    "      \"Information\": {\n",
    "        \"type\": \"text\",\n",
    "        \"value\": \"Lorem ipsum.\",\n",
    "        \"required\": true,\n",
    "        \"description\": \"This is a field of type: text\"\n",
    "      }\n",
    "    }\n",
    "  },\n",
    "  \"rating\": 0,\n",
    "  \"status\": 1,\n",
    "  \"tags\": [\n",
    "    \"test\",\n",
    "    \"confidential\",\n",
    "    \"replication\"\n",
    "  ],\n",
    "  \"title\": \"Test replicating the results of Naomi\",\n",
    "  \"template\": -1\n",
    "}'\n",
    "~~~"
   ]
  },
  {
   "cell_type": "code",
   "execution_count": null,
   "id": "f328bdf9-4ade-4ffa-8326-fac72b23c7c7",
   "metadata": {},
   "outputs": [],
   "source": [
    "# we add \"-w\" option to display the response status code.\n",
    "!curl  -w \"%{http_code}\" -X POST \"$API_URL\"/experiments -H \"accept: */*\" -H \"Authorization: $API_KEY\" -H \"Content-Type: application/json\" -d '{\"body\":\"<h1>Section title</h1><p>Main text of resource</p>\",\"canread\":\"{\\\"base\\\": 20, \\\"teams\\\": [], \\\"users\\\": [1], \\\"teamgroups\\\": [1]}\",\"canwrite\":\"{\\\"base\\\": 20, \\\"teams\\\": [], \\\"users\\\": [1], \\\"teamgroups\\\": [1]}\",\"category\":3,\"content_type\":1,\"metadata\":{\"extra_fields\":{\"Information\":{\"type\":\"text\",\"value\":\"Lorem ipsum.\",\"required\":true,\"description\":\"This is a field of type: text\"}}},\"rating\":0,\"status\":1,\"tags\":[\"test\",\"confidential\",\"replication\"],\"title\":\"Test replicating the results of Naomi - using curl\",\"template\":-1}'\n",
    "# By default, there would be no output."
   ]
  },
  {
   "cell_type": "markdown",
   "id": "82c87403-73c5-45bc-b708-888cf995359a",
   "metadata": {},
   "source": [
    "<div class=\"alert alert-block alert-success\"><b>Success:</b> 201 Created: The resource was successfully created.</div>\n",
    "\n"
   ]
  },
  {
   "cell_type": "markdown",
   "id": "29bf0d67-f965-4e50-ab86-5b4ef4ba3561",
   "metadata": {},
   "source": [
    "### Get an experiment\n",
    "\n",
    "<div style=\"padding: 10px; border-left: 5px solid #2b7de9; background-color: #eef6ff;\">\n",
    "    <strong>ⓘ Note:</strong> In this section, we use the tool `jq`. Install it with your package manager, or for google colab run the following cell.\n",
    "</div>"
   ]
  },
  {
   "cell_type": "code",
   "execution_count": null,
   "id": "3461ebf9-00e7-4b85-9cae-45484a211a83",
   "metadata": {},
   "outputs": [],
   "source": [
    "# only for google colab\n",
    "!apt install jq"
   ]
  },
  {
   "cell_type": "markdown",
   "id": "72e3bb13-3a60-4586-9cde-b79119ebe6e1",
   "metadata": {},
   "source": [
    "<div style=\"padding: 10px; border-left: 5px solid #2b7de9; background-color: #eef6ff;\">\n",
    "    <strong>ⓘ Note:</strong> Here, we will extract the \"id\" and \"title\" from the JSON response.\n",
    "</div>\n",
    "\n",
    "To retrieve both **ID** and **Title** from the experiments API, use this command:"
   ]
  },
  {
   "cell_type": "code",
   "execution_count": null,
   "id": "d03be706-94b3-40a5-bc0e-2569ac2cbd60",
   "metadata": {},
   "outputs": [],
   "source": [
    "!curl -s -X GET \"$API_URL\"/experiments -H 'accept: application/json' -H \"Authorization: $API_KEY\" | jq '.[] | {id, title}'"
   ]
  },
  {
   "cell_type": "markdown",
   "id": "3a98b48f-82dd-4b2c-9ead-244a4a555620",
   "metadata": {},
   "source": [
    "#### Here is a breakdown of this command\n",
    "\n",
    "This command retrieves a list of experiments from the eLabFTW API and extracts only the `id` and `title` fields from the response.\n",
    "\n",
    "- The `curl` command sends a `GET` request to the API at `https://demo.elabftw.net/api/v2/experiments`.\n",
    "- The `-s` option makes the request silent, meaning it won’t show progress or error messages unless necessary.\n",
    "- The `-H 'accept: application/json'` header ensures that the server returns the response in JSON format\n",
    "- and the `-H \"Authorization: $K\"` header provides the required authentication using the API key stored in the `$K` environment variable.\n",
    "\n",
    "The output of the `curl` command is piped (`|`) to `jq`, which is a tool for processing JSON data. The filter `.[] | {id, title}` tells `jq` to process each item in the returned JSON list and extract only the `id` and `title` fields from each experiment. The result is a list of objects containing just these two fields, making it easier to read and work with the relevant information without extra details from the full API response.\n",
    "\n",
    "~~~json\n",
    "{\n",
    "  \"id\": 1,\n",
    "  \"title\": \"Test replicating the results of Naomi - using curl\"\n",
    "}\n",
    "~~~\n",
    "\n",
    "If you need not to filter the result for the id and title, you can of course remove the part with `| jq '....'`\n",
    "\n",
    "We can now use the latest id, which is the experiment we created"
   ]
  },
  {
   "cell_type": "markdown",
   "id": "0b3c32f2-87b1-4f63-a8b7-8306a8348c49",
   "metadata": {},
   "source": [
    "### Get one specific experiment\n",
    "\n",
    "The command below will retrieve one experiment and its information."
   ]
  },
  {
   "cell_type": "code",
   "execution_count": null,
   "id": "45ef39a0-17b1-4cd1-9655-e6415397e55a",
   "metadata": {},
   "outputs": [],
   "source": [
    "!curl -s -X GET \"$API_URL\"/experiments/1 -H 'accept: application/json' -H \"Authorization: $API_KEY\" | jq '.'"
   ]
  },
  {
   "cell_type": "markdown",
   "id": "2e103b00-3533-43a1-93d1-47cfdd707189",
   "metadata": {},
   "source": [
    "### Patch an experiment\n",
    "\n",
    "This command patches the experiment with the ID you provide."
   ]
  },
  {
   "cell_type": "markdown",
   "id": "9a4cb178-b0fe-47f5-a090-9e81ff19bd42",
   "metadata": {},
   "source": [
    "<div style=\"padding: 10px; border-left: 5px solid #2b7de9; background-color: #eef6ff;\">\n",
    "    <strong>ⓘ Note:</strong> Here, replace the \"X\" in \"/experiments/<span class=\"alert-danger\">X</span>\" with an <b>id</b> from the previous <b>GET</b> request.\n",
    "</div>"
   ]
  },
  {
   "cell_type": "code",
   "execution_count": null,
   "id": "785b43c9-6689-41b1-a718-ad670e953fd2",
   "metadata": {},
   "outputs": [],
   "source": [
    "!curl -s -X PATCH \"$API_URL\"/experiments/X -H 'accept: application/json' -H \"Authorization: $API_KEY\" -H 'Content-Type: application/json' -d '{\"title\": \"Updated the title through curl\"}' | jq '.'"
   ]
  },
  {
   "cell_type": "markdown",
   "id": "582a0fe7-cf1a-400a-a2f3-e41478eca878",
   "metadata": {},
   "source": [
    "<div class=\"alert alert-block alert-success\"><b>Success:</b> 200 Success: The resource is returned with updated content.</div>\n",
    "\n"
   ]
  },
  {
   "cell_type": "markdown",
   "id": "aadbf3f9-64c4-49a7-a20c-8316bb3a6d8d",
   "metadata": {},
   "source": [
    "### Delete an experiment\n",
    "\n",
    "Deleting an experiment is a simple task. You need to provide the ID as the parameter, and the response will be empty on success, just like the POST verb.\n",
    "\n",
    "But, if you try to do it twice for example, "
   ]
  },
  {
   "cell_type": "code",
   "execution_count": null,
   "id": "ac4e6359-273a-438a-b3e9-576ef48057df",
   "metadata": {
    "scrolled": true
   },
   "outputs": [],
   "source": [
    "!curl -s -X 'DELETE' \"$API_URL\"/experiments/2 \\\n",
    "  -H 'accept: application/json' \\\n",
    "  -H 'Content-Type: application/json' \\\n",
    "  -H \"Authorization: $API_KEY\" | jq '.'"
   ]
  },
  {
   "cell_type": "markdown",
   "id": "1db4a6d1-482c-47e2-8086-1704b96bf8f6",
   "metadata": {},
   "source": [
    "<div class=\"alert alert-block alert-success\"><b>Success:</b> 204 No Content: The resource was successfully deleted, and no further content is returned.</div>\n",
    "\n"
   ]
  },
  {
   "cell_type": "markdown",
   "id": "033b3ee0-6e87-47ac-b483-92022ea8f993",
   "metadata": {},
   "source": [
    "➡️ See [last part](./2-api-workshop-python.ipynb) of this course."
   ]
  }
 ],
 "metadata": {
  "kernelspec": {
   "display_name": "Python 3 (ipykernel)",
   "language": "python",
   "name": "python3"
  },
  "language_info": {
   "codemirror_mode": {
    "name": "ipython",
    "version": 3
   },
   "file_extension": ".py",
   "mimetype": "text/x-python",
   "name": "python",
   "nbconvert_exporter": "python",
   "pygments_lexer": "ipython3",
   "version": "3.13.2"
  }
 },
 "nbformat": 4,
 "nbformat_minor": 5
}
